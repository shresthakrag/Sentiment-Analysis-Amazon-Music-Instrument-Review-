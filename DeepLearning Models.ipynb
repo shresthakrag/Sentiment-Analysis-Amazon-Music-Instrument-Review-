{
 "cells": [
  {
   "cell_type": "markdown",
   "id": "cececf99-3d4b-4910-a9ec-211c5b4d10d2",
   "metadata": {},
   "source": [
    "# Bidirectional Long Short-Term Memory (BiLSTM) "
   ]
  },
  {
   "cell_type": "markdown",
   "id": "6dfa069e-ad50-48f7-814d-3a5bef696bb8",
   "metadata": {},
   "source": [
    "It is a neural network model for sentiment analysis. The key components of the BiLSTM model include:\n",
    "\n",
    "- An embedding layer that converts tokenized text into dense vectors\n",
    "- A SpatialDropout1D layer to help prevent overfitting\n",
    "- A Bidirectional LSTM layer that processes the sequence in both forward and backward directions\n",
    "- A GlobalMaxPooling1D layer to capture the most important features from the BiLSTM output\n",
    "- Dense layers with ReLU activation for deeper representation learning\n",
    "- A final softmax layer for 3-class classification (Negative, Neutral, Positive)\n",
    "\n",
    "I streamlined it by using only one BiLSTM layer instead of two stacked ones, and incorporated more modern practices like spatial dropout and global pooling for improved efficiency and performance."
   ]
  },
  {
   "cell_type": "code",
   "execution_count": 123,
   "id": "9bcef149-126e-40b4-ba5f-29966fd5f2f4",
   "metadata": {},
   "outputs": [],
   "source": [
    "import pandas as pd\n",
    "import numpy as np\n",
    "import tensorflow as tf\n",
    "import matplotlib.pyplot as plt\n",
    "import seaborn as sns\n",
    "from tensorflow.keras.preprocessing.text import Tokenizer\n",
    "from tensorflow.keras.preprocessing.sequence import pad_sequences\n",
    "from tensorflow.keras.models import Sequential\n",
    "from tensorflow.keras.layers import Embedding, Bidirectional, LSTM, Dense, Dropout, GlobalMaxPooling1D, SpatialDropout1D\n",
    "from tensorflow.keras.callbacks import EarlyStopping, ModelCheckpoint\n",
    "from sklearn.model_selection import train_test_split\n",
    "from sklearn.metrics import classification_report, confusion_matrix, roc_curve, auc\n",
    "from sklearn.preprocessing import label_binarize\n",
    "import os\n",
    "import pickle"
   ]
  },
  {
   "cell_type": "code",
   "execution_count": 73,
   "id": "0aa4252a-1941-4050-b0ba-c2b3c908d3c4",
   "metadata": {},
   "outputs": [],
   "source": [
    "# Set random seeds for reproducibility\n",
    "np.random.seed(42)\n",
    "tf.random.set_seed(42)\n",
    "\n",
    "# Create output directory\n",
    "os.makedirs(\"outputs\", exist_ok=True)"
   ]
  },
  {
   "cell_type": "code",
   "execution_count": 77,
   "id": "e42174fa-9f54-42f3-86eb-67b6ea5a9964",
   "metadata": {},
   "outputs": [
    {
     "name": "stdout",
     "output_type": "stream",
     "text": [
      "Class distribution: {2: 87.91691047396138, 1: 7.528769260776283, 0: 4.554320265262337}\n"
     ]
    }
   ],
   "source": [
    "df = pd.read_csv(\"Instruments_Reviews.csv\")\n",
    "df = df.dropna(subset=['reviewText'])\n",
    "\n",
    "# Map ratings to 3 classes \n",
    "def label_sentiment(score):\n",
    "    if score <= 2:\n",
    "        return 0  # Negative\n",
    "    elif score == 3:\n",
    "        return 1  # Neutral\n",
    "    else:\n",
    "        return 2  # Positive\n",
    "\n",
    "df['sentiment'] = df['overall'].apply(label_sentiment)\n",
    "\n",
    "# Print class distribution\n",
    "sentiment_counts = df['sentiment'].value_counts(normalize=True) * 100\n",
    "print(f\"Class distribution: {sentiment_counts.to_dict()}\")\n",
    "\n",
    "texts = df['reviewText'].values\n",
    "labels = df['sentiment'].astype(int).values"
   ]
  },
  {
   "cell_type": "code",
   "execution_count": 79,
   "id": "9858c7ce-57d2-49c9-bddb-d42b0a854992",
   "metadata": {},
   "outputs": [
    {
     "name": "stdout",
     "output_type": "stream",
     "text": [
      "Tokenizing text with vocab size: 15000, max length: 150\n"
     ]
    }
   ],
   "source": [
    "# Tokenization with optimized settings\n",
    "vocab_size = 15000  # Reduced from 20000 to focus on more important words\n",
    "max_length = 150    # Reduced from 200 based on common review lengths\n",
    "print(f\"Tokenizing text with vocab size: {vocab_size}, max length: {max_length}\")\n",
    "\n",
    "tokenizer = Tokenizer(num_words=vocab_size, oov_token=\"<OOV>\")\n",
    "tokenizer.fit_on_texts(texts)\n",
    "sequences = tokenizer.texts_to_sequences(texts)\n",
    "padded = pad_sequences(sequences, maxlen=max_length, truncating='post', padding='post')"
   ]
  },
  {
   "cell_type": "code",
   "execution_count": 81,
   "id": "199618f2-b268-4c9b-aa03-2abd9579fd64",
   "metadata": {},
   "outputs": [
    {
     "name": "stdout",
     "output_type": "stream",
     "text": [
      "✅ Tokenizer saved to: outputs/tokenizer.pkl\n"
     ]
    }
   ],
   "source": [
    "# Save tokenizer\n",
    "with open(\"outputs/tokenizer.pkl\", \"wb\") as f:\n",
    "    pickle.dump(tokenizer, f)\n",
    "print(\"✅ Tokenizer saved to: outputs/tokenizer.pkl\")"
   ]
  },
  {
   "cell_type": "code",
   "execution_count": 83,
   "id": "e5d071ab-3e85-47c6-a80b-09c9ce67344e",
   "metadata": {},
   "outputs": [
    {
     "name": "stdout",
     "output_type": "stream",
     "text": [
      "Training set: 7177 samples\n",
      "Validation set: 1538 samples\n",
      "Test set: 1539 samples\n"
     ]
    }
   ],
   "source": [
    "# Train-test-validation split (added explicit validation set)\n",
    "X_train, X_temp, y_train, y_temp = train_test_split(padded, labels, test_size=0.3, random_state=42, stratify=labels)\n",
    "X_val, X_test, y_val, y_test = train_test_split(X_temp, y_temp, test_size=0.5, random_state=42, stratify=y_temp)\n",
    "\n",
    "print(f\"Training set: {X_train.shape[0]} samples\")\n",
    "print(f\"Validation set: {X_val.shape[0]} samples\")\n",
    "print(f\"Test set: {X_test.shape[0]} samples\")"
   ]
  },
  {
   "cell_type": "code",
   "execution_count": 85,
   "id": "f4538880-687b-4abd-8bef-1f34ccc77e7d",
   "metadata": {},
   "outputs": [
    {
     "name": "stdout",
     "output_type": "stream",
     "text": [
      "Class weights: {0: 7.316004077471967, 1: 4.4302469135802465, 2: 0.37913365029054413}\n"
     ]
    }
   ],
   "source": [
    "# Calculate class weights to handle imbalance\n",
    "class_weights = {}\n",
    "total = len(y_train)\n",
    "for i in range(3):\n",
    "    class_weights[i] = total / (np.sum(y_train == i) * 3)\n",
    "print(f\"Class weights: {class_weights}\")"
   ]
  },
  {
   "cell_type": "code",
   "execution_count": 87,
   "id": "b04a5785-398a-4875-ac25-264f59240026",
   "metadata": {},
   "outputs": [],
   "source": [
    "# Optimize model architecture\n",
    "embedding_dim = 100  # Reduced from 128 for efficiency\n",
    "\n",
    "model = Sequential([\n",
    "    # Input layer\n",
    "    Embedding(vocab_size, embedding_dim, mask_zero=False),  # Disabled mask_zero for performance\n",
    "    \n",
    "    # Spatial dropout helps prevent overfitting in text data better than regular dropout\n",
    "    SpatialDropout1D(0.2),\n",
    "    \n",
    "    # First BiLSTM layer with optimized units\n",
    "    Bidirectional(LSTM(50, return_sequences=True)),\n",
    "    \n",
    "    # Global max pooling captures the most important features\n",
    "    GlobalMaxPooling1D(),\n",
    "    \n",
    "    # Dense layers with batch normalization\n",
    "    Dense(50, activation='relu'),\n",
    "    Dropout(0.3),\n",
    "    \n",
    "    # Output layer\n",
    "    Dense(3, activation='softmax')\n",
    "])"
   ]
  },
  {
   "cell_type": "code",
   "execution_count": 118,
   "id": "fd5072f5-31ac-430a-8abf-3e460a543cc4",
   "metadata": {},
   "outputs": [],
   "source": [
    "# Use Adam optimizer with a lower learning rate\n",
    "optimizer = tf.keras.optimizers.Adam(learning_rate=0.001)\n",
    "model.compile(\n",
    "    loss='sparse_categorical_crossentropy',\n",
    "    optimizer=optimizer,\n",
    "    metrics=['accuracy']\n",
    ")"
   ]
  },
  {
   "cell_type": "code",
   "execution_count": 91,
   "id": "71f6e573-fe7e-4f4f-be45-1ea3d2d764ed",
   "metadata": {},
   "outputs": [],
   "source": [
    "# Callbacks for better training\n",
    "callbacks = [\n",
    "    EarlyStopping(\n",
    "        monitor='val_loss',\n",
    "        patience=3,\n",
    "        restore_best_weights=True,\n",
    "        verbose=1\n",
    "    ),\n",
    "    ModelCheckpoint(\n",
    "        filepath='outputs/best_model.keras',\n",
    "        monitor='val_loss',\n",
    "        save_best_only=True,\n",
    "        verbose=1\n",
    "    )\n",
    "]"
   ]
  },
  {
   "cell_type": "code",
   "execution_count": 93,
   "id": "62f339ba-871a-4f8d-a89f-22ce7bb030ac",
   "metadata": {},
   "outputs": [
    {
     "name": "stdout",
     "output_type": "stream",
     "text": [
      "Training model...\n",
      "Epoch 1/10\n",
      "\u001b[1m57/57\u001b[0m \u001b[32m━━━━━━━━━━━━━━━━━━━━\u001b[0m\u001b[37m\u001b[0m \u001b[1m0s\u001b[0m 192ms/step - accuracy: 0.3045 - loss: 1.1084\n",
      "Epoch 1: val_loss improved from inf to 1.06282, saving model to outputs/best_model.keras\n",
      "\u001b[1m57/57\u001b[0m \u001b[32m━━━━━━━━━━━━━━━━━━━━\u001b[0m\u001b[37m\u001b[0m \u001b[1m15s\u001b[0m 215ms/step - accuracy: 0.3064 - loss: 1.1082 - val_accuracy: 0.6827 - val_loss: 1.0628\n",
      "Epoch 2/10\n",
      "\u001b[1m57/57\u001b[0m \u001b[32m━━━━━━━━━━━━━━━━━━━━\u001b[0m\u001b[37m\u001b[0m \u001b[1m0s\u001b[0m 218ms/step - accuracy: 0.5044 - loss: 1.0633\n",
      "Epoch 2: val_loss improved from 1.06282 to 0.91540, saving model to outputs/best_model.keras\n",
      "\u001b[1m57/57\u001b[0m \u001b[32m━━━━━━━━━━━━━━━━━━━━\u001b[0m\u001b[37m\u001b[0m \u001b[1m13s\u001b[0m 231ms/step - accuracy: 0.5063 - loss: 1.0627 - val_accuracy: 0.7549 - val_loss: 0.9154\n",
      "Epoch 3/10\n",
      "\u001b[1m57/57\u001b[0m \u001b[32m━━━━━━━━━━━━━━━━━━━━\u001b[0m\u001b[37m\u001b[0m \u001b[1m0s\u001b[0m 218ms/step - accuracy: 0.7542 - loss: 0.8742\n",
      "Epoch 3: val_loss improved from 0.91540 to 0.62141, saving model to outputs/best_model.keras\n",
      "\u001b[1m57/57\u001b[0m \u001b[32m━━━━━━━━━━━━━━━━━━━━\u001b[0m\u001b[37m\u001b[0m \u001b[1m13s\u001b[0m 232ms/step - accuracy: 0.7545 - loss: 0.8734 - val_accuracy: 0.7614 - val_loss: 0.6214\n",
      "Epoch 4/10\n",
      "\u001b[1m57/57\u001b[0m \u001b[32m━━━━━━━━━━━━━━━━━━━━\u001b[0m\u001b[37m\u001b[0m \u001b[1m0s\u001b[0m 248ms/step - accuracy: 0.8058 - loss: 0.6503\n",
      "Epoch 4: val_loss improved from 0.62141 to 0.58928, saving model to outputs/best_model.keras\n",
      "\u001b[1m57/57\u001b[0m \u001b[32m━━━━━━━━━━━━━━━━━━━━\u001b[0m\u001b[37m\u001b[0m \u001b[1m15s\u001b[0m 265ms/step - accuracy: 0.8056 - loss: 0.6498 - val_accuracy: 0.7503 - val_loss: 0.5893\n",
      "Epoch 5/10\n",
      "\u001b[1m57/57\u001b[0m \u001b[32m━━━━━━━━━━━━━━━━━━━━\u001b[0m\u001b[37m\u001b[0m \u001b[1m0s\u001b[0m 247ms/step - accuracy: 0.8319 - loss: 0.5091\n",
      "Epoch 5: val_loss did not improve from 0.58928\n",
      "\u001b[1m57/57\u001b[0m \u001b[32m━━━━━━━━━━━━━━━━━━━━\u001b[0m\u001b[37m\u001b[0m \u001b[1m15s\u001b[0m 259ms/step - accuracy: 0.8318 - loss: 0.5094 - val_accuracy: 0.6411 - val_loss: 0.8566\n",
      "Epoch 6/10\n",
      "\u001b[1m57/57\u001b[0m \u001b[32m━━━━━━━━━━━━━━━━━━━━\u001b[0m\u001b[37m\u001b[0m \u001b[1m0s\u001b[0m 220ms/step - accuracy: 0.8424 - loss: 0.4223\n",
      "Epoch 6: val_loss improved from 0.58928 to 0.53117, saving model to outputs/best_model.keras\n",
      "\u001b[1m57/57\u001b[0m \u001b[32m━━━━━━━━━━━━━━━━━━━━\u001b[0m\u001b[37m\u001b[0m \u001b[1m13s\u001b[0m 233ms/step - accuracy: 0.8426 - loss: 0.4223 - val_accuracy: 0.8075 - val_loss: 0.5312\n",
      "Epoch 7/10\n",
      "\u001b[1m57/57\u001b[0m \u001b[32m━━━━━━━━━━━━━━━━━━━━\u001b[0m\u001b[37m\u001b[0m \u001b[1m0s\u001b[0m 226ms/step - accuracy: 0.8966 - loss: 0.2952\n",
      "Epoch 7: val_loss did not improve from 0.53117\n",
      "\u001b[1m57/57\u001b[0m \u001b[32m━━━━━━━━━━━━━━━━━━━━\u001b[0m\u001b[37m\u001b[0m \u001b[1m14s\u001b[0m 239ms/step - accuracy: 0.8966 - loss: 0.2948 - val_accuracy: 0.8010 - val_loss: 0.6051\n",
      "Epoch 8/10\n",
      "\u001b[1m57/57\u001b[0m \u001b[32m━━━━━━━━━━━━━━━━━━━━\u001b[0m\u001b[37m\u001b[0m \u001b[1m0s\u001b[0m 229ms/step - accuracy: 0.9274 - loss: 0.1838\n",
      "Epoch 8: val_loss did not improve from 0.53117\n",
      "\u001b[1m57/57\u001b[0m \u001b[32m━━━━━━━━━━━━━━━━━━━━\u001b[0m\u001b[37m\u001b[0m \u001b[1m14s\u001b[0m 241ms/step - accuracy: 0.9275 - loss: 0.1837 - val_accuracy: 0.8173 - val_loss: 0.6657\n",
      "Epoch 9/10\n",
      "\u001b[1m57/57\u001b[0m \u001b[32m━━━━━━━━━━━━━━━━━━━━\u001b[0m\u001b[37m\u001b[0m \u001b[1m0s\u001b[0m 247ms/step - accuracy: 0.9528 - loss: 0.1271\n",
      "Epoch 9: val_loss did not improve from 0.53117\n",
      "\u001b[1m57/57\u001b[0m \u001b[32m━━━━━━━━━━━━━━━━━━━━\u001b[0m\u001b[37m\u001b[0m \u001b[1m15s\u001b[0m 260ms/step - accuracy: 0.9528 - loss: 0.1271 - val_accuracy: 0.8199 - val_loss: 0.7064\n",
      "Epoch 9: early stopping\n",
      "Restoring model weights from the end of the best epoch: 6.\n"
     ]
    }
   ],
   "source": [
    "# Train with explicit validation set and callbacks\n",
    "print(\"Training model...\")\n",
    "history = model.fit(\n",
    "    X_train, y_train,\n",
    "    validation_data=(X_val, y_val),\n",
    "    epochs=10,\n",
    "    batch_size=128,  # Increased from 64 for faster training\n",
    "    callbacks=callbacks,\n",
    "    class_weight=class_weights,\n",
    "    verbose=1\n",
    ")"
   ]
  },
  {
   "cell_type": "code",
   "execution_count": 94,
   "id": "050c69ed-59b7-464c-81c4-2eb553a179bb",
   "metadata": {},
   "outputs": [
    {
     "name": "stdout",
     "output_type": "stream",
     "text": [
      "✅ Model saved to: outputs/sentiment_bilstm_model_3class.keras\n"
     ]
    }
   ],
   "source": [
    "# Save the final model\n",
    "model.save(\"outputs/sentiment_bilstm_model_3class.keras\")\n",
    "print(\"✅ Model saved to: outputs/sentiment_bilstm_model_3class.keras\")"
   ]
  },
  {
   "cell_type": "code",
   "execution_count": 96,
   "id": "ef8158aa-fca3-48d1-b798-e0b8feee2bac",
   "metadata": {},
   "outputs": [
    {
     "name": "stdout",
     "output_type": "stream",
     "text": [
      "Test accuracy: 0.8187\n"
     ]
    }
   ],
   "source": [
    "# Evaluate on test set\n",
    "test_loss, test_acc = model.evaluate(X_test, y_test, verbose=0)\n",
    "print(f\"Test accuracy: {test_acc:.4f}\")"
   ]
  },
  {
   "cell_type": "code",
   "execution_count": 100,
   "id": "938f64ed-0672-49d7-a8b2-a26f18afe328",
   "metadata": {},
   "outputs": [
    {
     "name": "stdout",
     "output_type": "stream",
     "text": [
      "\u001b[1m49/49\u001b[0m \u001b[32m━━━━━━━━━━━━━━━━━━━━\u001b[0m\u001b[37m\u001b[0m \u001b[1m2s\u001b[0m 31ms/step\n",
      "\n",
      "Classification Report:\n",
      "              precision    recall  f1-score   support\n",
      "\n",
      "    Negative       0.38      0.13      0.19        70\n",
      "     Neutral       0.22      0.41      0.29       116\n",
      "    Positive       0.93      0.89      0.91      1353\n",
      "\n",
      "    accuracy                           0.82      1539\n",
      "   macro avg       0.51      0.48      0.46      1539\n",
      "weighted avg       0.85      0.82      0.83      1539\n",
      "\n"
     ]
    }
   ],
   "source": [
    "# Predict probabilities and class labels\n",
    "y_pred_probs = model.predict(X_test)\n",
    "y_pred = np.argmax(y_pred_probs, axis=1)\n",
    "\n",
    "# Classification Report\n",
    "print(\"\\nClassification Report:\")\n",
    "report = classification_report(\n",
    "    y_test, \n",
    "    y_pred, \n",
    "    target_names=['Negative', 'Neutral', 'Positive'],\n",
    "    output_dict=True\n",
    ")\n",
    "print(classification_report(y_test, y_pred, target_names=['Negative', 'Neutral', 'Positive']))"
   ]
  },
  {
   "cell_type": "code",
   "execution_count": 102,
   "id": "65c0c801-cb26-4abc-b252-3e64ff8ce419",
   "metadata": {},
   "outputs": [],
   "source": [
    "# Save report to CSV\n",
    "pd.DataFrame(report).transpose().to_csv('outputs/classification_report.csv')"
   ]
  },
  {
   "cell_type": "code",
   "execution_count": 114,
   "id": "bbd0b00c-0627-41c8-a992-c33e4a051f2c",
   "metadata": {},
   "outputs": [
    {
     "data": {
      "image/png": "[encoded data removed]",
      "text/plain": [
       "<Figure size 600x400 with 2 Axes>"
      ]
     },
     "metadata": {},
     "output_type": "display_data"
    }
   ],
   "source": [
    "# Confusion Matrix\n",
    "cm = confusion_matrix(y_test, y_pred)\n",
    "plt.figure(figsize=(6, 4))\n",
    "sns.heatmap(\n",
    "    cm, \n",
    "    annot=True, \n",
    "    fmt='d', \n",
    "    cmap='YlGnBu', \n",
    "    xticklabels=['Negative', 'Neutral', 'Positive'], \n",
    "    yticklabels=['Negative', 'Neutral', 'Positive']\n",
    ")\n",
    "plt.xlabel(\"Predicted\")\n",
    "plt.ylabel(\"Actual\")\n",
    "plt.title(\"Confusion Matrix (3-Class Sentiment)\")\n",
    "plt.savefig('outputs/confusion_matrix.png')"
   ]
  },
  {
   "cell_type": "code",
   "execution_count": 112,
   "id": "11806575-2a10-457c-8d40-6280a8c3a569",
   "metadata": {},
   "outputs": [
    {
     "data": {
      "image/png": "[encoded data removed]",
      "text/plain": [
       "<Figure size 700x500 with 1 Axes>"
      ]
     },
     "metadata": {},
     "output_type": "display_data"
    }
   ],
   "source": [
    "# ROC-AUC for Multi-Class (One-vs-Rest)\n",
    "y_test_bin = label_binarize(y_test, classes=[0, 1, 2])\n",
    "fpr = {}\n",
    "tpr = {}\n",
    "roc_auc = {}\n",
    "plt.figure(figsize=(7, 5))\n",
    "for i, label in enumerate(['Negative', 'Neutral', 'Positive']):\n",
    "    fpr[i], tpr[i], _ = roc_curve(y_test_bin[:, i], y_pred_probs[:, i])\n",
    "    roc_auc[i] = auc(fpr[i], tpr[i])\n",
    "    plt.plot(fpr[i], tpr[i], label=f'{label} (AUC = {roc_auc[i]:.2f})')\n",
    "\n",
    "plt.plot([0, 1], [0, 1], 'k--')\n",
    "plt.xlabel(\"False Positive Rate\")\n",
    "plt.ylabel(\"True Positive Rate\")\n",
    "plt.title(\"ROC Curve (One-vs-Rest)\")\n",
    "plt.legend(loc='lower right')\n",
    "plt.grid()\n",
    "plt.savefig('outputs/roc_curve.png')\n",
    "plt.show()\n",
    "plt.close()"
   ]
  },
  {
   "cell_type": "code",
   "execution_count": 116,
   "id": "2dc6e3e3-4875-4bd8-9ce0-16e012d26668",
   "metadata": {},
   "outputs": [
    {
     "data": {
      "image/png": "[encoded data removed]",
      "text/plain": [
       "<Figure size 1200x500 with 2 Axes>"
      ]
     },
     "metadata": {},
     "output_type": "display_data"
    }
   ],
   "source": [
    "# Plot training history\n",
    "plt.figure(figsize=(12, 5))\n",
    "plt.subplot(1, 2, 1)\n",
    "plt.plot(history.history['accuracy'])\n",
    "plt.plot(history.history['val_accuracy'])\n",
    "plt.title('Model Accuracy')\n",
    "plt.ylabel('Accuracy')\n",
    "plt.xlabel('Epoch')\n",
    "plt.legend(['Train', 'Validation'], loc='lower right')\n",
    "\n",
    "plt.subplot(1, 2, 2)\n",
    "plt.plot(history.history['loss'])\n",
    "plt.plot(history.history['val_loss'])\n",
    "plt.title('Model Loss')\n",
    "plt.ylabel('Loss')\n",
    "plt.xlabel('Epoch')\n",
    "plt.legend(['Train', 'Validation'], loc='upper right')\n",
    "plt.tight_layout()\n",
    "plt.savefig('outputs/training_history.png')"
   ]
  },
  {
   "cell_type": "markdown",
   "id": "296b19d0-6e46-4b09-8eb8-6fe244c0120b",
   "metadata": {
    "jp-MarkdownHeadingCollapsed": true
   },
   "source": [
    "# BERT Transformer Model"
   ]
  },
  {
   "cell_type": "code",
   "execution_count": 2,
   "id": "8e3a3ab3-4fb3-4fd9-8f13-f3f73c720c46",
   "metadata": {},
   "outputs": [],
   "source": [
    "import pandas as pd\n",
    "import numpy as np\n",
    "import torch\n",
    "from transformers import BertTokenizer, BertForSequenceClassification\n",
    "from transformers import AdamW, get_linear_schedule_with_warmup\n",
    "from sklearn.model_selection import train_test_split\n",
    "from sklearn.metrics import classification_report, accuracy_score\n",
    "from torch.utils.data import TensorDataset, DataLoader, RandomSampler, SequentialSampler\n",
    "from tqdm import tqdm"
   ]
  },
  {
   "cell_type": "code",
   "execution_count": 9,
   "id": "45721724-d821-4f66-9ace-61e4901884d9",
   "metadata": {},
   "outputs": [],
   "source": [
    "df = pd.read_csv(\"Instruments_Reviews.csv\")\n",
    "df['reviews'] = df['reviewText'] + \" \" + df['summary']\n",
    "df['reviews'] = df['reviews'].fillna('')\n"
   ]
  },
  {
   "cell_type": "code",
   "execution_count": 10,
   "id": "4bdaa577-1d69-406a-87ad-bebec3d273c8",
   "metadata": {},
   "outputs": [],
   "source": [
    "def Labelling(row):\n",
    "    text = row['reviews']\n",
    "    \n",
    "    # Handle missing or non-string entries\n",
    "    if not isinstance(text, str):\n",
    "        return 'Neutral'  # or anything you prefer as default\n",
    "\n",
    "    text = text.lower()\n",
    "    \n",
    "    if any(word in text for word in ['bad', 'terrible', 'worst', 'awful', 'poor']):\n",
    "        return 'Negative'\n",
    "    elif any(word in text for word in ['okay', 'average', 'fine', 'decent']):\n",
    "        return 'Neutral'\n",
    "    elif any(word in text for word in ['good', 'great', 'excellent', 'amazing', 'perfect']):\n",
    "        return 'Positive'\n",
    "    else:\n",
    "        return 'Neutral'  # fallback\n"
   ]
  },
  {
   "cell_type": "code",
   "execution_count": 11,
   "id": "83d71769-4557-4ffd-bd85-1a9e429b54e0",
   "metadata": {},
   "outputs": [],
   "source": [
    "df['sentiment'] = df.apply(Labelling, axis=1)\n",
    "\n",
    "# Map sentiments to numerical values\n",
    "sentiment_mapping = {'Negative': 0, 'Neutral': 1, 'Positive': 2}\n",
    "df['sentiment_num'] = df['sentiment'].map(sentiment_mapping)"
   ]
  },
  {
   "cell_type": "code",
   "execution_count": 12,
   "id": "b280d963-2b23-4857-9eb7-2dc48676e78a",
   "metadata": {},
   "outputs": [],
   "source": [
    "# Split data\n",
    "X_train, X_test, y_train, y_test = train_test_split(\n",
    "    df['reviews'], \n",
    "    df['sentiment_num'],\n",
    "    test_size=0.2,\n",
    "    random_state=42,\n",
    "    stratify=df['sentiment_num']\n",
    ")"
   ]
  },
  {
   "cell_type": "code",
   "execution_count": 13,
   "id": "45091373-b299-44bb-9fb1-e9bffbf09cba",
   "metadata": {},
   "outputs": [
    {
     "data": {
      "application/vnd.jupyter.widget-view+json": {
       "model_id": "1f7466680bf54c4eaedacdb0572a4320",
       "version_major": 2,
       "version_minor": 0
      },
      "text/plain": [
       "tokenizer_config.json:   0%|          | 0.00/48.0 [00:00<?, ?B/s]"
      ]
     },
     "metadata": {},
     "output_type": "display_data"
    },
    {
     "name": "stderr",
     "output_type": "stream",
     "text": [
      "C:\\Users\\dprsh\\AppData\\Local\\Programs\\Python\\Python311\\Lib\\site-packages\\huggingface_hub\\file_download.py:159: UserWarning: `huggingface_hub` cache-system uses symlinks by default to efficiently store duplicated files but your machine does not support them in C:\\Users\\dprsh\\.cache\\huggingface\\hub\\models--bert-base-uncased. Caching files will still work but in a degraded version that might require more space on your disk. This warning can be disabled by setting the `HF_HUB_DISABLE_SYMLINKS_WARNING` environment variable. For more details, see https://huggingface.co/docs/huggingface_hub/how-to-cache#limitations.\n",
      "To support symlinks on Windows, you either need to activate Developer Mode or to run Python as an administrator. In order to see activate developer mode, see this article: https://docs.microsoft.com/en-us/windows/apps/get-started/enable-your-device-for-development\n",
      "  warnings.warn(message)\n"
     ]
    },
    {
     "data": {
      "application/vnd.jupyter.widget-view+json": {
       "model_id": "ae735717f2754da085a542e724a58a63",
       "version_major": 2,
       "version_minor": 0
      },
      "text/plain": [
       "vocab.txt:   0%|          | 0.00/232k [00:00<?, ?B/s]"
      ]
     },
     "metadata": {},
     "output_type": "display_data"
    },
    {
     "data": {
      "application/vnd.jupyter.widget-view+json": {
       "model_id": "80f38a2b553744b7b0d3efe17a6452c4",
       "version_major": 2,
       "version_minor": 0
      },
      "text/plain": [
       "tokenizer.json:   0%|          | 0.00/466k [00:00<?, ?B/s]"
      ]
     },
     "metadata": {},
     "output_type": "display_data"
    },
    {
     "data": {
      "application/vnd.jupyter.widget-view+json": {
       "model_id": "ab582bd9567748258d20d4a202cdf65d",
       "version_major": 2,
       "version_minor": 0
      },
      "text/plain": [
       "config.json:   0%|          | 0.00/570 [00:00<?, ?B/s]"
      ]
     },
     "metadata": {},
     "output_type": "display_data"
    },
    {
     "name": "stderr",
     "output_type": "stream",
     "text": [
      "C:\\Users\\dprsh\\AppData\\Local\\Programs\\Python\\Python311\\Lib\\site-packages\\transformers\\tokenization_utils_base.py:1601: FutureWarning: `clean_up_tokenization_spaces` was not set. It will be set to `True` by default. This behavior will be depracted in transformers v4.45, and will be then set to `False` by default. For more details check this issue: https://github.com/huggingface/transformers/issues/31884\n",
      "  warnings.warn(\n"
     ]
    }
   ],
   "source": [
    "# Initialize BERT tokenizer\n",
    "tokenizer = BertTokenizer.from_pretrained('bert-base-uncased', do_lower_case=True)"
   ]
  },
  {
   "cell_type": "code",
   "execution_count": 14,
   "id": "047ac666-83e0-448d-af38-56c3ee49db30",
   "metadata": {},
   "outputs": [],
   "source": [
    "# Tokenize and encode the sequences\n",
    "def encode_texts(texts, max_len=128):\n",
    "    input_ids = []\n",
    "    attention_masks = []\n",
    "    \n",
    "    for text in texts:\n",
    "        encoded_dict = tokenizer.encode_plus(\n",
    "            text,\n",
    "            add_special_tokens=True,\n",
    "            max_length=max_len,\n",
    "            pad_to_max_length=True,\n",
    "            return_attention_mask=True,\n",
    "            return_tensors='pt',\n",
    "            truncation=True\n",
    "        )\n",
    "        input_ids.append(encoded_dict['input_ids'])\n",
    "        attention_masks.append(encoded_dict['attention_mask'])\n",
    "    \n",
    "    return torch.cat(input_ids, dim=0), torch.cat(attention_masks, dim=0)\n"
   ]
  },
  {
   "cell_type": "code",
   "execution_count": 15,
   "id": "3201e2cd-40a3-4832-9a95-d1210b465567",
   "metadata": {},
   "outputs": [
    {
     "name": "stderr",
     "output_type": "stream",
     "text": [
      "C:\\Users\\dprsh\\AppData\\Local\\Programs\\Python\\Python311\\Lib\\site-packages\\transformers\\tokenization_utils_base.py:2870: FutureWarning: The `pad_to_max_length` argument is deprecated and will be removed in a future version, use `padding=True` or `padding='longest'` to pad to the longest sequence in the batch, or use `padding='max_length'` to pad to a max length. In this case, you can give a specific length with `max_length` (e.g. `max_length=45`) or leave max_length to None to pad to the maximal input size of the model (e.g. 512 for Bert).\n",
      "  warnings.warn(\n"
     ]
    }
   ],
   "source": [
    "# Encode training and validation data\n",
    "train_inputs, train_masks = encode_texts(X_train.tolist())\n",
    "val_inputs, val_masks = encode_texts(X_test.tolist())"
   ]
  },
  {
   "cell_type": "code",
   "execution_count": 16,
   "id": "fe6c2472-7f04-425d-9efa-c04894962dca",
   "metadata": {},
   "outputs": [],
   "source": [
    "# Convert labels to tensors\n",
    "train_labels = torch.tensor(y_train.values)\n",
    "val_labels = torch.tensor(y_test.values)"
   ]
  },
  {
   "cell_type": "code",
   "execution_count": 17,
   "id": "7ec00313-0b09-411b-af9e-cd3339ceb85a",
   "metadata": {},
   "outputs": [],
   "source": [
    "# Create DataLoader\n",
    "batch_size = 16\n",
    "\n",
    "train_data = TensorDataset(train_inputs, train_masks, train_labels)\n",
    "train_sampler = RandomSampler(train_data)\n",
    "train_dataloader = DataLoader(train_data, sampler=train_sampler, batch_size=batch_size)\n",
    "\n",
    "val_data = TensorDataset(val_inputs, val_masks, val_labels)\n",
    "val_sampler = SequentialSampler(val_data)\n",
    "val_dataloader = DataLoader(val_data, sampler=val_sampler, batch_size=batch_size)"
   ]
  },
  {
   "cell_type": "code",
   "execution_count": null,
   "id": "071d3594-7260-4e7d-8068-4378e2fa6b74",
   "metadata": {},
   "outputs": [
    {
     "data": {
      "application/vnd.jupyter.widget-view+json": {
       "model_id": "517c1270174c4a349a4b6464a4d08a85",
       "version_major": 2,
       "version_minor": 0
      },
      "text/plain": [
       "model.safetensors:   0%|          | 0.00/440M [00:00<?, ?B/s]"
      ]
     },
     "metadata": {},
     "output_type": "display_data"
    }
   ],
   "source": [
    "# Load pre-trained BERT model\n",
    "model = BertForSequenceClassification.from_pretrained(\n",
    "    'bert-base-uncased',\n",
    "    num_labels=3, # Negative, Neutral, Positive\n",
    "    output_attentions=False,\n",
    "    output_hidden_states=False\n",
    ")"
   ]
  },
  {
   "cell_type": "code",
   "execution_count": 19,
   "id": "fb16826a-3274-4664-9234-fb623367b634",
   "metadata": {},
   "outputs": [
    {
     "name": "stderr",
     "output_type": "stream",
     "text": [
      "C:\\Users\\dprsh\\AppData\\Local\\Programs\\Python\\Python311\\Lib\\site-packages\\transformers\\optimization.py:591: FutureWarning: This implementation of AdamW is deprecated and will be removed in a future version. Use the PyTorch implementation torch.optim.AdamW instead, or set `no_deprecation_warning=True` to disable this warning\n",
      "  warnings.warn(\n"
     ]
    }
   ],
   "source": [
    "# Set device\n",
    "device = torch.device('cuda' if torch.cuda.is_available() else 'cpu')\n",
    "model = model.to(device)\n",
    "\n",
    "# Set up optimizer and scheduler\n",
    "optimizer = AdamW(model.parameters(), lr=2e-5, eps=1e-8)\n",
    "epochs = 3\n",
    "total_steps = len(train_dataloader) * epochs\n",
    "scheduler = get_linear_schedule_with_warmup(\n",
    "    optimizer,\n",
    "    num_warmup_steps=0,\n",
    "    num_training_steps=total_steps\n",
    ")"
   ]
  },
  {
   "cell_type": "code",
   "execution_count": 20,
   "id": "1876c7ba-bd2f-4bfc-955c-aadb4e45908d",
   "metadata": {},
   "outputs": [],
   "source": [
    "# Training function\n",
    "def train_model():\n",
    "    model.train()\n",
    "    total_loss = 0\n",
    "    \n",
    "    for batch in tqdm(train_dataloader, desc=\"Training\"):\n",
    "        batch = tuple(t.to(device) for t in batch)\n",
    "        b_input_ids, b_input_mask, b_labels = batch\n",
    "        \n",
    "        model.zero_grad()\n",
    "        \n",
    "        outputs = model(\n",
    "            b_input_ids,\n",
    "            token_type_ids=None,\n",
    "            attention_mask=b_input_mask,\n",
    "            labels=b_labels\n",
    "        )\n",
    "        \n",
    "        loss = outputs[0]\n",
    "        total_loss += loss.item()\n",
    "        \n",
    "        loss.backward()\n",
    "        torch.nn.utils.clip_grad_norm_(model.parameters(), 1.0)\n",
    "        optimizer.step()\n",
    "        scheduler.step()\n",
    "    \n",
    "    avg_train_loss = total_loss / len(train_dataloader)\n",
    "    print(f\"Average training loss: {avg_train_loss}\")"
   ]
  },
  {
   "cell_type": "code",
   "execution_count": 21,
   "id": "3e2bd11a-eb29-40bd-8e87-8e0dd4b02789",
   "metadata": {},
   "outputs": [],
   "source": [
    "# Evaluation function\n",
    "def evaluate_model():\n",
    "    model.eval()\n",
    "    predictions, true_labels = [], []\n",
    "    total_loss = 0\n",
    "    \n",
    "    for batch in tqdm(val_dataloader, desc=\"Evaluating\"):\n",
    "        batch = tuple(t.to(device) for t in batch)\n",
    "        b_input_ids, b_input_mask, b_labels = batch\n",
    "        \n",
    "        with torch.no_grad():\n",
    "            outputs = model(\n",
    "                b_input_ids,\n",
    "                token_type_ids=None,\n",
    "                attention_mask=b_input_mask,\n",
    "                labels=b_labels\n",
    "            )\n",
    "        \n",
    "        loss = outputs[0]\n",
    "        total_loss += loss.item()\n",
    "        \n",
    "        logits = outputs[1]\n",
    "        logits = logits.detach().cpu().numpy()\n",
    "        label_ids = b_labels.to('cpu').numpy()\n",
    "        \n",
    "        predictions.append(logits)\n",
    "        true_labels.append(label_ids)\n",
    "    \n",
    "    avg_val_loss = total_loss / len(val_dataloader)\n",
    "    print(f\"Average validation loss: {avg_val_loss}\")\n",
    "    \n",
    "    predictions = np.concatenate(predictions, axis=0)\n",
    "    true_labels = np.concatenate(true_labels, axis=0)\n",
    "    \n",
    "    pred_labels = np.argmax(predictions, axis=1)\n",
    "    \n",
    "    print(\"Classification Report:\")\n",
    "    print(classification_report(true_labels, pred_labels, target_names=['Negative', 'Neutral', 'Positive']))\n",
    "    print(\"Accuracy:\", accuracy_score(true_labels, pred_labels))\n",
    "    \n",
    "    return avg_val_loss"
   ]
  },
  {
   "cell_type": "code",
   "execution_count": null,
   "id": "9283a014-5018-4cf8-aa49-b0d3d37ad845",
   "metadata": {},
   "outputs": [
    {
     "name": "stdout",
     "output_type": "stream",
     "text": [
      "Epoch 1/3\n"
     ]
    },
    {
     "name": "stderr",
     "output_type": "stream",
     "text": [
      "Training:   0%|                                                                                | 0/513 [00:00<?, ?it/s]"
     ]
    }
   ],
   "source": [
    "# Train and evaluate\n",
    "for epoch in range(epochs):\n",
    "    print(f\"Epoch {epoch + 1}/{epochs}\")\n",
    "    train_model()\n",
    "    evaluate_model()"
   ]
  },
  {
   "cell_type": "code",
   "execution_count": null,
   "id": "b1073aa2-8bac-4b1f-aaae-d0e085a78855",
   "metadata": {},
   "outputs": [],
   "source": [
    "# Save the model\n",
    "model.save_pretrained('./bert_sentiment_model')\n",
    "tokenizer.save_pretrained('./bert_sentiment_model')"
   ]
  },
  {
   "cell_type": "code",
   "execution_count": null,
   "id": "98b52662-092a-4c13-a10b-781e9c5107fc",
   "metadata": {},
   "outputs": [],
   "source": [
    "# Function to predict sentiment for new reviews\n",
    "def predict_sentiment(text):\n",
    "    model.eval()\n",
    "    \n",
    "    encoded_dict = tokenizer.encode_plus(\n",
    "        text,\n",
    "        add_special_tokens=True,\n",
    "        max_length=128,\n",
    "        pad_to_max_length=True,\n",
    "        return_attention_mask=True,\n",
    "        return_tensors='pt',\n",
    "        truncation=True\n",
    "    )\n",
    "    \n",
    "    input_id = encoded_dict['input_ids'].to(device)\n",
    "    attention_mask = encoded_dict['attention_mask'].to(device)\n",
    "    \n",
    "    with torch.no_grad():\n",
    "        outputs = model(input_id, token_type_ids=None, attention_mask=attention_mask)\n",
    "    \n",
    "    logits = outputs[0]\n",
    "    logits = logits.detach().cpu().numpy()\n",
    "    pred_label = np.argmax(logits, axis=1).flatten()[0]\n",
    "    \n",
    "    sentiment_labels = {0: 'Negative', 1: 'Neutral', 2: 'Positive'}\n",
    "    return sentiment_labels[pred_label]"
   ]
  },
  {
   "cell_type": "code",
   "execution_count": null,
   "id": "81b65f19-0145-4360-8797-50f3535de6ad",
   "metadata": {},
   "outputs": [],
   "source": [
    "# Example usage\n",
    "sample_review = \"This product is amazing! Works perfectly and exceeded my expectations.\"\n",
    "print(predict_sentiment(sample_review))"
   ]
  },
  {
   "cell_type": "code",
   "execution_count": null,
   "id": "39af0c38-0b38-44c7-8942-48b57a24336f",
   "metadata": {},
   "outputs": [],
   "source": []
  }
 ],
 "metadata": {
  "kernelspec": {
   "display_name": "Python 3 (ipykernel)",
   "language": "python",
   "name": "python3"
  },
  "language_info": {
   "codemirror_mode": {
    "name": "ipython",
    "version": 3
   },
   "file_extension": ".py",
   "mimetype": "text/x-python",
   "name": "python",
   "nbconvert_exporter": "python",
   "pygments_lexer": "ipython3",
   "version": "3.12.7"
  }
 },
 "nbformat": 4,
 "nbformat_minor": 5
}
